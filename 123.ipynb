{
  "nbformat": 4,
  "nbformat_minor": 0,
  "metadata": {
    "kernelspec": {
      "display_name": "Python 3",
      "language": "python",
      "name": "python3"
    },
    "language_info": {
      "codemirror_mode": {
        "name": "ipython",
        "version": 3
      },
      "file_extension": ".py",
      "mimetype": "text/x-python",
      "name": "python",
      "nbconvert_exporter": "python",
      "pygments_lexer": "ipython3",
      "version": "3.8.5"
    },
    "colab": {
      "name": "123.ipynb",
      "provenance": [],
      "toc_visible": true
    }
  },
  "cells": [
    {
      "cell_type": "markdown",
      "metadata": {
        "id": "Y5hVbJSS3Thu"
      },
      "source": [
        "# Module 1: Data Science Fundamentals\n",
        "## Module 1: Data Science Fundamentals\n",
        "### Sprint 2: Statistical Tests and Experiments\n",
        "### Subproject 3: Introduction to Online Testing"
      ]
    },
    {
      "cell_type": "markdown",
      "metadata": {
        "id": "lhUoPMIs3TiW"
      },
      "source": [
        "We've talked in-depth about statistical hypothesis testing in the previous chapters. We've learned about samples, how sample differs from the population, what you can tell about population given a sample, z-tests, t-tests, the bootstrapping method, did some exercixes.\n",
        "\n",
        "This subproject is all about applying this knowledge to make data-driven software product decisions online. We'll learn to decide which feature to release (e.g. using shiny new logo vs. using minimalistic one) by comparing business metrics for 2 releases and testing for statistical significance.\n",
        "\n",
        "We'll focus on the framework called _A/B testing_. There are many other ways to test feature value e.g. usability studies, surveys, multi-armed bandits, but A/B is the most popular and reliable way of measuring impact of new releases. \n",
        "\n",
        "We won't study any new packages throughout this subproject - A/B testing uses all the previously discussed statistical hypothesis testing methods."
      ]
    },
    {
      "cell_type": "markdown",
      "metadata": {
        "id": "BeflAQ-D3TiZ"
      },
      "source": [
        "## Learning outcomes\n",
        "\n",
        "- A/B testing idea.\n",
        "- Preparing for A/B testing.\n",
        "- Analyzing A/B test results."
      ]
    },
    {
      "cell_type": "markdown",
      "metadata": {
        "id": "_6YQE9mN3Tib"
      },
      "source": [
        "## What is A/B testing?"
      ]
    },
    {
      "cell_type": "markdown",
      "metadata": {
        "id": "22vRgNkE3Tig"
      },
      "source": [
        "Watch this short intro into A/B testing. After the video, you should have the basic idea of what A/B testing is and when to use it."
      ]
    },
    {
      "cell_type": "code",
      "metadata": {
        "id": "5J_E8Qq63Tii",
        "outputId": "f0b5fb96-9f0c-4bdf-c2c9-a3b9bedf99ef"
      },
      "source": [
        "from IPython.display import YouTubeVideo\n",
        "YouTubeVideo('zFMgpxG-chM')"
      ],
      "execution_count": null,
      "outputs": [
        {
          "output_type": "execute_result",
          "data": {
            "image/jpeg": "[encoded data removed]",
            "text/html": [
              "\n",
              "        <iframe\n",
              "            width=\"400\"\n",
              "            height=\"300\"\n",
              "            src=\"https://www.youtube.com/embed/zFMgpxG-chM\"\n",
              "            frameborder=\"0\"\n",
              "            allowfullscreen\n",
              "        ></iframe>\n",
              "        "
            ],
            "text/plain": [
              "<IPython.lib.display.YouTubeVideo at 0x7fd683ef3e80>"
            ]
          },
          "metadata": {
            "tags": []
          },
          "execution_count": 1
        }
      ]
    },
    {
      "cell_type": "markdown",
      "metadata": {
        "id": "wjJc-S2v3Til"
      },
      "source": [
        "Enroll in the [A/B testing](https://www.udacity.com/course/ab-testing--ud257) Udacity course. Watch videos and complete quizes till Lesson 1.8. After completing these lessons, you should have solid understanding of what A/B testing is and when to use it."
      ]
    },
    {
      "cell_type": "markdown",
      "metadata": {
        "id": "QEOazVIK3Tin"
      },
      "source": [
        "## Preparing for an A/B test"
      ]
    },
    {
      "cell_type": "markdown",
      "metadata": {
        "id": "IJ368g9w3Tio"
      },
      "source": [
        "Product owners often rush to release new features. It makes full sense - they want to reduce time-to-market. We, as data scientists, have a role to balance the equation and take necessary steps to not release features for A/B testing prematurely. Without proper preparation for A/B test, analysing results might be troublesome and biased."
      ]
    },
    {
      "cell_type": "markdown",
      "metadata": {
        "id": "6T2GrzWR3Tip"
      },
      "source": [
        "Go through Lesson 4. of the A/B testing course. This should allow you to grasp the fundamentals of setting up an A/B testing experiment."
      ]
    },
    {
      "cell_type": "markdown",
      "metadata": {
        "id": "r5EIhjtL3Tiq"
      },
      "source": [
        "Here's the common workflow in the software industry when setting up an A/B test:\n",
        "\n",
        "**1. Choose a metric**\n",
        "\n",
        "The first step is to decide which product's business objective you want to improve. Suppose, we decide we want to improve click-through-rate for our homepage.\n",
        "\n",
        "**2. Decide on the feature you want to test**\n",
        "\n",
        "We have high hopes of the new recommender system for the homepage. We believe it should improve CTR.\n",
        "\n",
        "**3. Choose the size, duration and confidence level of A/B test**\n",
        "\n",
        "Tipically, A/B tests are conducted on a small scale. The riskier the feature, the smaller the scale. Usually, it's between $5\\%$ and $20\\%$.\n",
        "\n",
        "Duration is directly affected by how seasonality affects your business and the scale. E.g. if user behaviour differs significantly on weekends, one has to perform at least 1 week long A/B tests. Scale affects the duration as well - the more the traffic, the less the variance of the metrics there is, the more confident we can be about conclusions of significance testing of A vs. B groups.\n",
        "\n",
        "Confidence level defines under which certainty we can accept the significance. Usually, 95% confidence level is good to go, but sometimes 99% level is used for more risky decisions. Naturally, the higher the confidence level we want to use, the more traffic has to flow through the test system given same variation - standard deviation reduces with sample size.\n",
        "\n",
        "**4. Decide how to compose control and modified groups**\n",
        "\n",
        "The diversion step. We usually split users into 2 equal groups (A and B), B gets to see the new homepage, A gets to see the old one. Users are uniquely by an anonymous ID, which usually encompases user's device, IP, website account ID and as many footprints as needed to uniquely identify each user. As mentioned in the Udacity course, users might use different accounts, different browsers, devices, so many footprints are need to uniquely identify each user.\n",
        "\n",
        "**5. Launch**\n",
        "\n",
        "This step involves building the feature MVP as fast as possible. Afterwards, it depends on the implementation, either the client e.g. mobile app gets to decide which homescreen to show for the user or the backend, which homescreen to return as a response."
      ]
    },
    {
      "cell_type": "markdown",
      "metadata": {
        "id": "9Ca6Uxjk3Tit"
      },
      "source": [
        "## Analysing Results"
      ]
    },
    {
      "cell_type": "markdown",
      "metadata": {
        "id": "dBgfJXv83Tiv"
      },
      "source": [
        "For this subsection, go through Lesson 5. on Udacity's A/B testing course. This should serve as a good overview of how in general you need analyze A/B testing results."
      ]
    },
    {
      "cell_type": "markdown",
      "metadata": {
        "id": "MZiXbOwO3Tiw"
      },
      "source": [
        "Here's the moment when you get to use all tricks you've learned about statistical significance testing."
      ]
    },
    {
      "cell_type": "markdown",
      "metadata": {
        "id": "dnvpYY723Tix"
      },
      "source": [
        "1. Calculate the metric\n",
        "3. Choose appropriate statistical significance test\n",
        "4. Perform the test\n",
        "\n",
        "The result should be decision to either scale the feature or drop the feature.\n"
      ]
    },
    {
      "cell_type": "markdown",
      "metadata": {
        "id": "1TsgtSXV3Tiy"
      },
      "source": [
        "## Exercise"
      ]
    },
    {
      "cell_type": "markdown",
      "metadata": {
        "id": "rR7pOiW83Tiz"
      },
      "source": [
        "### Analyzing a real A/B test!"
      ]
    },
    {
      "cell_type": "markdown",
      "metadata": {
        "id": "8aaCf5_g3Ti0"
      },
      "source": [
        "<div><img src=\"https://i.imgur.com/IEVZVsB.png\" style=\"height: 300px;\" /></div>"
      ]
    },
    {
      "cell_type": "markdown",
      "metadata": {
        "id": "nWwl6GDk3Ti0"
      },
      "source": [
        "Let's finish the subproject by analyzing real A/B test data. We'll use a dataset from [Kaggle](https://www.kaggle.com/zhangluyuan/ab-testing). You might need to log-in to Kaggle to download the dataset. If you have not used the platform before, sign-up.\n",
        "\n",
        "The data contains an experiment of 2 groups - control and treatment. Treatment group has a new landing page. Find out whether there's a significant difference in conversion rate between two groups, under 95% confidence."
      ]
    },
    {
      "cell_type": "code",
      "metadata": {
        "id": "L4dBqXVHBr_7"
      },
      "source": [
        "import pandas as pd\n"
      ],
      "execution_count": 2,
      "outputs": []
    },
    {
      "cell_type": "code",
      "metadata": {
        "id": "gKnE3wTz-32z",
        "outputId": "2d5702e4-7f78-4ea7-ccc5-236c212ebf10",
        "colab": {
          "base_uri": "https://localhost:8080/",
          "height": 204
        }
      },
      "source": [
        "abtest = pd.read_csv('ab_data.csv')\n",
        "abtest.head()"
      ],
      "execution_count": 4,
      "outputs": [
        {
          "output_type": "execute_result",
          "data": {
            "text/html": [
              "<div>\n",
              "<style scoped>\n",
              "    .dataframe tbody tr th:only-of-type {\n",
              "        vertical-align: middle;\n",
              "    }\n",
              "\n",
              "    .dataframe tbody tr th {\n",
              "        vertical-align: top;\n",
              "    }\n",
              "\n",
              "    .dataframe thead th {\n",
              "        text-align: right;\n",
              "    }\n",
              "</style>\n",
              "<table border=\"1\" class=\"dataframe\">\n",
              "  <thead>\n",
              "    <tr style=\"text-align: right;\">\n",
              "      <th></th>\n",
              "      <th>user_id</th>\n",
              "      <th>timestamp</th>\n",
              "      <th>group</th>\n",
              "      <th>landing_page</th>\n",
              "      <th>converted</th>\n",
              "    </tr>\n",
              "  </thead>\n",
              "  <tbody>\n",
              "    <tr>\n",
              "      <th>0</th>\n",
              "      <td>851104</td>\n",
              "      <td>2017-01-21 22:11:48.556739</td>\n",
              "      <td>control</td>\n",
              "      <td>old_page</td>\n",
              "      <td>0</td>\n",
              "    </tr>\n",
              "    <tr>\n",
              "      <th>1</th>\n",
              "      <td>804228</td>\n",
              "      <td>2017-01-12 08:01:45.159739</td>\n",
              "      <td>control</td>\n",
              "      <td>old_page</td>\n",
              "      <td>0</td>\n",
              "    </tr>\n",
              "    <tr>\n",
              "      <th>2</th>\n",
              "      <td>661590</td>\n",
              "      <td>2017-01-11 16:55:06.154213</td>\n",
              "      <td>treatment</td>\n",
              "      <td>new_page</td>\n",
              "      <td>0</td>\n",
              "    </tr>\n",
              "    <tr>\n",
              "      <th>3</th>\n",
              "      <td>853541</td>\n",
              "      <td>2017-01-08 18:28:03.143765</td>\n",
              "      <td>treatment</td>\n",
              "      <td>new_page</td>\n",
              "      <td>0</td>\n",
              "    </tr>\n",
              "    <tr>\n",
              "      <th>4</th>\n",
              "      <td>864975</td>\n",
              "      <td>2017-01-21 01:52:26.210827</td>\n",
              "      <td>control</td>\n",
              "      <td>old_page</td>\n",
              "      <td>1</td>\n",
              "    </tr>\n",
              "  </tbody>\n",
              "</table>\n",
              "</div>"
            ],
            "text/plain": [
              "   user_id                   timestamp      group landing_page  converted\n",
              "0   851104  2017-01-21 22:11:48.556739    control     old_page          0\n",
              "1   804228  2017-01-12 08:01:45.159739    control     old_page          0\n",
              "2   661590  2017-01-11 16:55:06.154213  treatment     new_page          0\n",
              "3   853541  2017-01-08 18:28:03.143765  treatment     new_page          0\n",
              "4   864975  2017-01-21 01:52:26.210827    control     old_page          1"
            ]
          },
          "metadata": {
            "tags": []
          },
          "execution_count": 4
        }
      ]
    },
    {
      "cell_type": "markdown",
      "metadata": {
        "id": "aUwI1gwv3Ti1"
      },
      "source": [
        "-------"
      ]
    },
    {
      "cell_type": "markdown",
      "metadata": {
        "id": "CyuWl-l53Ti2"
      },
      "source": [
        "## Summary"
      ]
    },
    {
      "cell_type": "markdown",
      "metadata": {
        "id": "AXdOZols3Ti2"
      },
      "source": [
        "Online A/B testing is the most widely accepted method in the industry to make data-driven decisions. At its core lies statistical hypothesis testing (significance tests). A/B test is a controlled experiment, where A and B are samples, proxies of the A population and B population.\n",
        "\n",
        "The key idea is as follows - although it might seem that variation A has better metrics than B e.g. conversion rate, and it feels so tempting to decide that A is better and launch feature A, you need to be really careful about judging which variation is actually better - statistical significance tests need to be used, A's advantage might be just noise."
      ]
    },
    {
      "cell_type": "code",
      "metadata": {
        "id": "jD5BsWba3Ti3"
      },
      "source": [
        ""
      ],
      "execution_count": null,
      "outputs": []
    }
  ]
}