{
  "nbformat": 4,
  "nbformat_minor": 0,
  "metadata": {
    "kernelspec": {
      "display_name": "Python 3",
      "language": "python",
      "name": "python3"
    },
    "language_info": {
      "codemirror_mode": {
        "name": "ipython",
        "version": 3
      },
      "file_extension": ".py",
      "mimetype": "text/x-python",
      "name": "python",
      "nbconvert_exporter": "python",
      "pygments_lexer": "ipython3",
      "version": "3.8.5"
    },
    "colab": {
      "name": "131.ipynb",
      "provenance": []
    }
  },
  "cells": [
    {
      "cell_type": "markdown",
      "metadata": {
        "id": "X8roUdgQHts0"
      },
      "source": [
        "# Module 1: Data Science Fundamentals\n",
        "## Sprint 3: Intro to Modeling\n",
        "## Subproject 1: Linear Algebra Refresher"
      ]
    },
    {
      "cell_type": "markdown",
      "metadata": {
        "id": "IXCwL3l_HttF"
      },
      "source": [
        "Welcome to the final sprint of the Data Science Fundamentals module! We've done EDA, we've learned to verify our hypotheses of change by testing for significance in the change. There's one more skill set every data scientist should have - modeling. Modeling comes in many flavors - statistical modeling, machine learning. \n",
        "\n",
        "We will to explore the fundamental idea that **data can be represented in a compressed way - with a model**. You can imagine the model as an approximation of a dataset. Using models not only allows us, humans, to understand data better, but also make predictions about unseen data (we'll explore the concept of automatically learning relationships in the data)."
      ]
    },
    {
      "cell_type": "markdown",
      "metadata": {
        "id": "1XRW-wuWHttG"
      },
      "source": [
        "## Learning outcomes\n",
        "\n",
        "- Basics of linear algebra: vector operations, matrix operations.\n",
        "- Intermediate NumPy proficiency: broadcasting, vectorization, higher-level APIs."
      ]
    },
    {
      "cell_type": "markdown",
      "metadata": {
        "id": "6tAry75aHttH"
      },
      "source": [
        "## Linear Algebra Refresher"
      ]
    },
    {
      "cell_type": "markdown",
      "metadata": {
        "id": "KDDXTCpyHttH"
      },
      "source": [
        "Go through all videos and exercises at [KhanAcademy's linear algebra module](https://www.khanacademy.org/math/linear-algebra). After the course, you should have refreshed your knowledge of linear algebra basics - vectors, matrices, their operations, inner product."
      ]
    },
    {
      "cell_type": "markdown",
      "metadata": {
        "id": "pCfQKXXYHttI"
      },
      "source": [
        "## Advanced NumPy"
      ]
    },
    {
      "cell_type": "markdown",
      "metadata": {
        "id": "ifx7hqdzHttI"
      },
      "source": [
        "We've had a chance to try out some NumPy in Sprint 1. We've barely scratched the surface - there's so much more you should know about NumPy APIs as a data scientist, which we'll focus on throughout this subproject. This subproject will mostly consist of exercises."
      ]
    },
    {
      "cell_type": "markdown",
      "metadata": {
        "id": "xSG1glV7HttI"
      },
      "source": [
        "### Aggregations"
      ]
    },
    {
      "cell_type": "markdown",
      "metadata": {
        "id": "M1QxjC4jHttJ"
      },
      "source": [
        "By this point, you should be familiar with Pandas aggregation techniques. Often, you need to crunch big data with pure NumPy (after all, Pandas Series are just NumPy arrays under the hood), thus it's worth being familiar with NumPy data aggregation techniques - sums, statistical parameter calculations (mean, median, quantiles, percentiles)."
      ]
    },
    {
      "cell_type": "markdown",
      "metadata": {
        "id": "VGZpr1uvHttJ"
      },
      "source": [
        "Go through [this](https://jakevdp.github.io/PythonDataScienceHandbook/02.04-computation-on-arrays-aggregates.html) tutorial on NumPy aggregation APIs. By the end of this tutorial, you should be able to apply basic NumPy aggregation techniques, when needed."
      ]
    },
    {
      "cell_type": "markdown",
      "metadata": {
        "id": "RKvjHB4ZHttK"
      },
      "source": [
        "### Broadcasting and vectorization"
      ]
    },
    {
      "cell_type": "markdown",
      "metadata": {
        "id": "CRTpjyQ1HttK"
      },
      "source": [
        "Get familiar with the concept of [broadcasting](https://cs231n.github.io/python-numpy-tutorial/#broadcasting). It allows NumPy to work different shape arrays.\n",
        "\n",
        "Afterwards, get used to the concept of [vectorization](https://realpython.com/numpy-array-programming/#what-is-vectorization). This technique allows to run loop-based algorithms several times faster."
      ]
    },
    {
      "cell_type": "markdown",
      "metadata": {
        "id": "GzvrhtMEHttK"
      },
      "source": [
        "### Exercises"
      ]
    },
    {
      "cell_type": "markdown",
      "metadata": {
        "id": "rAgQEv6NHttL"
      },
      "source": [
        "Implement exercises [26](https://github.com/rougier/numpy-100/blob/master/100_Numpy_exercises_with_hints.md#26-what-is-the-output-of-the-following-script-), [13](https://github.com/rougier/numpy-100/blob/master/100_Numpy_exercises_with_hints.md#13-create-a-10x10-array-with-random-values-and-find-the-minimum-and-maximum-values-) and [45](https://github.com/rougier/numpy-100/blob/master/100_Numpy_exercises_with_hints.md#45-create-random-vector-of-size-10-and-replace-the-maximum-value-by-0-). Check the solutions [here](https://github.com/rougier/numpy-100/blob/master/100_Numpy_exercises_with_hints_with_solutions.md). You can implement them in this notebook."
      ]
    },
    {
      "cell_type": "markdown",
      "metadata": {
        "id": "UhdEXGewHttL"
      },
      "source": [
        "For the end of this subproject, we invite you to solve some more NumPy exercises, this time more advanced. From the document [here](https://github.com/rougier/numpy-100/blob/master/100_Numpy_exercises_with_hints.md), choose 2 exercises of each difficulty level 3, and solve them. Afterwards, verify your solution using the answer sheet [here](https://github.com/rougier/numpy-100/blob/master/100_Numpy_exercises_with_hints_with_solutions.md)."
      ]
    },
    {
      "cell_type": "code",
      "metadata": {
        "id": "VDvKboj0luub"
      },
      "source": [
        "import numpy as np"
      ],
      "execution_count": null,
      "outputs": []
    },
    {
      "cell_type": "markdown",
      "metadata": {
        "id": "OUxAkO82M6wu"
      },
      "source": [
        "26. What is the output of the following script? (★☆☆)"
      ]
    },
    {
      "cell_type": "code",
      "metadata": {
        "id": "TGsmsSN-M20m",
        "colab": {
          "base_uri": "https://localhost:8080/"
        },
        "outputId": "78893fcd-6113-4c64-aa23-3949a41413dd"
      },
      "source": [
        "# Author: Jake VanderPlas\n",
        "\n",
        "print(sum(range(5),-1))\n",
        "from numpy import *\n",
        "print(sum(range(5),-1))\n"
      ],
      "execution_count": null,
      "outputs": [
        {
          "output_type": "stream",
          "text": [
            "10\n",
            "10\n"
          ],
          "name": "stdout"
        }
      ]
    },
    {
      "cell_type": "code",
      "metadata": {
        "id": "eEuxVT1WIovD",
        "colab": {
          "base_uri": "https://localhost:8080/"
        },
        "outputId": "7f131324-d853-4070-d150-063571b677e9"
      },
      "source": [
        "import numpy as np\n",
        "print(sum(range(5),-1))\n",
        "\n",
        "print(sum(range(5),-1))"
      ],
      "execution_count": 1,
      "outputs": [
        {
          "output_type": "stream",
          "text": [
            "9\n",
            "9\n"
          ],
          "name": "stdout"
        }
      ]
    },
    {
      "cell_type": "code",
      "metadata": {
        "id": "Cm4-RG2cI1ty",
        "colab": {
          "base_uri": "https://localhost:8080/"
        },
        "outputId": "1d4ccfeb-e0ce-4e72-b4f1-c696a4c7de1d"
      },
      "source": [
        "v=list(range(5)),-1\n",
        "v"
      ],
      "execution_count": null,
      "outputs": [
        {
          "output_type": "execute_result",
          "data": {
            "text/plain": [
              "([0, 1, 2, 3, 4], -1)"
            ]
          },
          "metadata": {
            "tags": []
          },
          "execution_count": 25
        }
      ]
    },
    {
      "cell_type": "markdown",
      "metadata": {
        "id": "iGGmxUq3OjsH"
      },
      "source": [
        "45. Create random vector of size 10 and replace the maximum value by 0 (★★☆)"
      ]
    },
    {
      "cell_type": "code",
      "metadata": {
        "id": "hEVwsr7oOk8b",
        "colab": {
          "base_uri": "https://localhost:8080/"
        },
        "outputId": "0c79a134-5ab7-46d9-a8cd-e43c0b9fd3ad"
      },
      "source": [
        "Ran = np.random.random(10)\n",
        "print(Ran)\n",
        "print(Ran.argmax())\n",
        "print('')\n",
        "Ran[Ran.argmax()] = 0\n",
        "print(Ran)"
      ],
      "execution_count": null,
      "outputs": [
        {
          "output_type": "stream",
          "text": [
            "[0.0224639  0.68227967 0.71005824 0.1548906  0.14950709 0.94079284\n",
            " 0.11979777 0.52664008 0.90386678 0.79061684]\n",
            "5\n",
            "\n",
            "[0.0224639  0.68227967 0.71005824 0.1548906  0.14950709 0.\n",
            " 0.11979777 0.52664008 0.90386678 0.79061684]\n"
          ],
          "name": "stdout"
        }
      ]
    },
    {
      "cell_type": "code",
      "metadata": {
        "id": "_bNoLrsJJM_9",
        "colab": {
          "base_uri": "https://localhost:8080/"
        },
        "outputId": "2a18511e-e255-4500-e572-1610bb7990b4"
      },
      "source": [
        "print(sum(range(5),-1))"
      ],
      "execution_count": null,
      "outputs": [
        {
          "output_type": "stream",
          "text": [
            "10\n"
          ],
          "name": "stdout"
        }
      ]
    },
    {
      "cell_type": "markdown",
      "metadata": {
        "id": "KPqw-DujL2Tw"
      },
      "source": [
        "40. Create a random vector of size 10 and sort it (★★☆)"
      ]
    },
    {
      "cell_type": "code",
      "metadata": {
        "id": "ywqO94T-LzY3",
        "colab": {
          "base_uri": "https://localhost:8080/"
        },
        "outputId": "bb9e7c2f-48cb-4511-a6e4-142eb3b8579e"
      },
      "source": [
        "num = np.random.random(10)\n",
        "num.sort()\n",
        "num"
      ],
      "execution_count": null,
      "outputs": [
        {
          "output_type": "execute_result",
          "data": {
            "text/plain": [
              "array([0.13198769, 0.29741545, 0.38174644, 0.51736253, 0.67848693,\n",
              "       0.73894452, 0.74179442, 0.87292216, 0.9400086 , 0.98084481])"
            ]
          },
          "metadata": {
            "tags": []
          },
          "execution_count": 16
        }
      ]
    },
    {
      "cell_type": "markdown",
      "metadata": {
        "id": "jyTx45SvHttM"
      },
      "source": [
        "-----"
      ]
    },
    {
      "cell_type": "markdown",
      "metadata": {
        "id": "gbUxmN3nkMaJ"
      },
      "source": [
        "13. Create a 10x10 array with random values and find the minimum and maximum values (★☆☆)"
      ]
    },
    {
      "cell_type": "code",
      "metadata": {
        "id": "sVSuj566kPA2",
        "colab": {
          "base_uri": "https://localhost:8080/"
        },
        "outputId": "80e7bde1-0722-42b2-ee9a-ae65f36eec32"
      },
      "source": [
        "Z = np.random.random((10,10))\n",
        "Zmin, Zmax = Z.min(), Z.max()\n",
        "print(Zmin, Zmax)"
      ],
      "execution_count": null,
      "outputs": [
        {
          "output_type": "stream",
          "text": [
            "0.006631342960017994 0.9782430099094102\n"
          ],
          "name": "stdout"
        }
      ]
    },
    {
      "cell_type": "markdown",
      "metadata": {
        "id": "7_6hvI11h6J0"
      },
      "source": [
        "64. Consider a given vector, how to add 1 to each element indexed by a second vector (be careful with repeated indices)? (★★★)\n",
        "hint: np.bincount | np.add.at\n",
        "\n"
      ]
    },
    {
      "cell_type": "code",
      "metadata": {
        "id": "05o50Cddh8-u",
        "outputId": "6b848b5c-9865-495a-bb05-c6d1c88858b9",
        "colab": {
          "base_uri": "https://localhost:8080/"
        }
      },
      "source": [
        "Z = np.ones(10)\n",
        "I = np.random.randint(0,len(Z),20)\n",
        "Z += np.bincount(I, minlength=len(Z))\n",
        "print(Z)\n",
        "\n"
      ],
      "execution_count": 6,
      "outputs": [
        {
          "output_type": "stream",
          "text": [
            "[3. 1. 5. 4. 3. 4. 3. 3. 2. 2.]\n"
          ],
          "name": "stdout"
        }
      ]
    },
    {
      "cell_type": "code",
      "metadata": {
        "id": "Txn5fGsZk0ct",
        "outputId": "1324f9ff-56d4-4d02-aeeb-9e4c23b91fd4",
        "colab": {
          "base_uri": "https://localhost:8080/"
        }
      },
      "source": [
        "Z = np.ones(10)\n",
        "I = np.random.randint(0,len(Z),20)\n",
        "print(I)\n",
        "np.add.at(Z, I, 1)\n",
        "print(Z)"
      ],
      "execution_count": 12,
      "outputs": [
        {
          "output_type": "stream",
          "text": [
            "[1 6 2 4 0 2 4 3 3 8 9 6 9 4 6 3 1 1 4 6]\n",
            "[2. 4. 3. 4. 5. 1. 5. 1. 2. 3.]\n"
          ],
          "name": "stdout"
        }
      ]
    },
    {
      "cell_type": "code",
      "metadata": {
        "id": "NcN3qc9dpaEu",
        "outputId": "faf4465a-e020-4301-b2d3-be83c549209a",
        "colab": {
          "base_uri": "https://localhost:8080/"
        }
      },
      "source": [
        "np.ones(10)"
      ],
      "execution_count": 10,
      "outputs": [
        {
          "output_type": "execute_result",
          "data": {
            "text/plain": [
              "array([1., 1., 1., 1., 1., 1., 1., 1., 1., 1.])"
            ]
          },
          "metadata": {
            "tags": []
          },
          "execution_count": 10
        }
      ]
    },
    {
      "cell_type": "code",
      "metadata": {
        "id": "ZXMiYgCboDDh",
        "outputId": "b2964897-2165-4493-e11c-92eefe7e4f34",
        "colab": {
          "base_uri": "https://localhost:8080/"
        }
      },
      "source": [
        "np.random.randint(0,len(Z),20)"
      ],
      "execution_count": 9,
      "outputs": [
        {
          "output_type": "execute_result",
          "data": {
            "text/plain": [
              "array([3, 7, 6, 5, 1, 3, 4, 7, 1, 8, 7, 9, 3, 7, 5, 4, 4, 6, 7, 1])"
            ]
          },
          "metadata": {
            "tags": []
          },
          "execution_count": 9
        }
      ]
    },
    {
      "cell_type": "markdown",
      "metadata": {
        "id": "gpZXir1Xh7wA"
      },
      "source": [
        "65. How to accumulate elements of a vector (X) to an array (F) based on an index list (I)? (★★★)\n",
        "hint: np.bincount"
      ]
    },
    {
      "cell_type": "code",
      "metadata": {
        "id": "KeZ0Jc74ijt_",
        "outputId": "f17e39f0-98e0-4a99-deda-14feae7c5af5",
        "colab": {
          "base_uri": "https://localhost:8080/"
        }
      },
      "source": [
        "X = [1,2,3,4,5]\n",
        "I = [1,3,9,3,1]\n",
        "F = np.bincount(I,X)\n",
        "print(F)"
      ],
      "execution_count": 4,
      "outputs": [
        {
          "output_type": "stream",
          "text": [
            "[0. 6. 0. 6. 0. 0. 0. 0. 0. 3.]\n"
          ],
          "name": "stdout"
        }
      ]
    },
    {
      "cell_type": "markdown",
      "metadata": {
        "id": "k7XScQvXiLBf"
      },
      "source": [
        "69. How to get the diagonal of a dot product? (★★★)"
      ]
    },
    {
      "cell_type": "markdown",
      "metadata": {
        "id": "z9vGjIwmHttM"
      },
      "source": [
        "## Summary"
      ]
    },
    {
      "cell_type": "markdown",
      "metadata": {
        "id": "b5uJaK_WHttM"
      },
      "source": [
        "Linear algebra basics will be fundamental for the upcoming subprojects of this sprint. You should be comfortable with vector and matrix operations by now, as well as be able to employ De facto the best linear algebra framework for Python NumPy. Be aware that although NumPy is usually much faster than Python, vectorization knowledge is crucial to make it blazing fast."
      ]
    },
    {
      "cell_type": "code",
      "metadata": {
        "id": "AiJm4S55HttN"
      },
      "source": [
        ""
      ],
      "execution_count": null,
      "outputs": []
    }
  ]
}