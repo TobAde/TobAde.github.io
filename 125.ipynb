{
  "nbformat": 4,
  "nbformat_minor": 0,
  "metadata": {
    "kernelspec": {
      "display_name": "Python 3",
      "language": "python",
      "name": "python3"
    },
    "language_info": {
      "codemirror_mode": {
        "name": "ipython",
        "version": 3
      },
      "file_extension": ".py",
      "mimetype": "text/x-python",
      "name": "python",
      "nbconvert_exporter": "python",
      "pygments_lexer": "ipython3",
      "version": "3.8.5"
    },
    "colab": {
      "name": "121.ipynb",
      "provenance": []
    }
  },
  "cells": [
    {
      "cell_type": "markdown",
      "metadata": {
        "id": "sw6fnd74IEtX"
      },
      "source": [
        "# Module 1: Data Science Fundamentals\n",
        "## Module 1: Data Science Fundamentals\n",
        "### Sprint 2: Statistical Tests and Experiments\n",
        "### Subproject 1: Probability Theory and Statistics"
      ]
    },
    {
      "cell_type": "markdown",
      "metadata": {
        "id": "ahK7VVcBIEtn"
      },
      "source": [
        "Welcome to the 2nd sprint of Data Science Fundamentals module.\n",
        "\n",
        "In this sprint, we'll turn our focus towards statistical experiments. We'll learn to test our hypotheses to help us make better data-driven decisions, talk about online testing and start building your personal portfolio. \n",
        "\n",
        "To start with, in this subproject, we will refresh our understanding of fundamental concepts of set theory and probability, including permutations, combinations, expected value, variance, binomial distribution, and Bernoulli trial."
      ]
    },
    {
      "cell_type": "markdown",
      "metadata": {
        "id": "ukk8sC2JIEtn"
      },
      "source": [
        "## Learning outcomes\n",
        "\n",
        "- Basics of Probability Theory and Set Theory - permutations, combinations.\n",
        "- Central Limit Theorem.\n",
        "- Fundamentals of Statistics - expected value, variance, binomial distribution, and Bernoulli trial."
      ]
    },
    {
      "cell_type": "markdown",
      "metadata": {
        "id": "nPZYaOVGIEto"
      },
      "source": [
        "## Probability Theory and Set Theory"
      ]
    },
    {
      "cell_type": "markdown",
      "metadata": {
        "id": "KulHkCghIEto"
      },
      "source": [
        "Go through videos and quizzes:\n",
        "\n",
        "* [Probability Theory](https://www.khanacademy.org/math/statistics-probability/probability-library)\n",
        "* [Permutations, combinations](https://www.khanacademy.org/math/statistics-probability/counting-permutations-and-combinations)\n",
        "* [Bayes Theorem](https://www.youtube.com/watch?v=HZGCoVF3YvM)\n",
        "\n",
        "Additionally:\n",
        "* [MIT RES.6-012 Introduction to Probability, Spring 2018](https://www.youtube.com/watch?v=iQ2edOqEQAs&list=PLUl4u3cNGP60hI9ATjSFgLZpbNJ7myAg6&index=2). A bite-sized academic course of probability theory. Go through Lesson 1 and Lesson 2.\n",
        "\n",
        "These will cover fundamental concepts of set theory and probability, including permutations, combinations."
      ]
    },
    {
      "cell_type": "markdown",
      "metadata": {
        "id": "2nGX0jNDIEtp"
      },
      "source": [
        "## Fundamentals of Statistics"
      ]
    },
    {
      "cell_type": "markdown",
      "metadata": {
        "id": "g2l-vPKaIEtp"
      },
      "source": [
        "Go through videos and quizzes:\n",
        "\n",
        "* [Random variables](https://www.khanacademy.org/math/ap-statistics/random-variables-ap)\n",
        "* [Statistics Fundamentals](https://www.youtube.com/watch?v=qBigTkBLU6g&list=PLblh5JKOoLUK0FLuzwntyYI10UQFUhsY9) (first 6 videos)\n",
        "* [Intro to statistics course](https://www.udacity.com/course/intro-to-statistics--st101) - from the very same [Sebastian Thrun](https://en.wikipedia.org/wiki/Sebastian_Thrun), it's a fine, self-paced introduction to statistics.\n",
        "\n",
        "These will cover expected value, variance, binomial distribution, and Bernoulli trial."
      ]
    },
    {
      "cell_type": "markdown",
      "metadata": {
        "id": "onpWZUAPIEtp"
      },
      "source": [
        "## Central Limit Theorem"
      ]
    },
    {
      "cell_type": "markdown",
      "metadata": {
        "id": "88PoSGsiIEtq"
      },
      "source": [
        "The central limit theorem plays a pivotal role in the topics we'll discuss in next chapters. We suggest watching the video below to get a grip of the concept (overall, StatQuest is phenomenal channel, do check their other videos)."
      ]
    },
    {
      "cell_type": "code",
      "metadata": {
        "id": "94YWr5uiIEtq",
        "outputId": "602e19d1-cf75-4c78-b87d-6c02b999b5fc"
      },
      "source": [
        "from IPython.display import YouTubeVideo\n",
        "YouTubeVideo('YAlJCEDH2uY')"
      ],
      "execution_count": null,
      "outputs": [
        {
          "output_type": "execute_result",
          "data": {
            "image/jpeg": "[encoded data removed]",
            "text/html": [
              "\n",
              "        <iframe\n",
              "            width=\"400\"\n",
              "            height=\"300\"\n",
              "            src=\"https://www.youtube.com/embed/YAlJCEDH2uY\"\n",
              "            frameborder=\"0\"\n",
              "            allowfullscreen\n",
              "        ></iframe>\n",
              "        "
            ],
            "text/plain": [
              "<IPython.lib.display.YouTubeVideo at 0x7ff9ae5eae50>"
            ]
          },
          "metadata": {
            "tags": []
          },
          "execution_count": 1
        }
      ]
    },
    {
      "cell_type": "markdown",
      "metadata": {
        "id": "NUXtgnMhIEts"
      },
      "source": [
        "Additionally, go through these resources:\n",
        "    \n",
        "* [Central limit theorem](https://www.khanacademy.org/math/ap-statistics/sampling-distribution-ap/sampling-distribution-mean/v/central-limit-theorem). Watch the first video of the section, about the central limit theorem."
      ]
    },
    {
      "cell_type": "markdown",
      "metadata": {
        "id": "iU3F69a7IEts"
      },
      "source": [
        "### Exercise\n",
        "\n",
        "Central limit theorem, although being at the foundation of testing statistical significance of changes, is often unintuitive, frankly quite confusing. To stimulate the intuition, let's simulate it! "
      ]
    },
    {
      "cell_type": "markdown",
      "metadata": {
        "id": "O9-t8qi-IEts"
      },
      "source": [
        "Start by plotting 3 distributions - `exponential(scale=1.5)`, `uniform(low=0.0, high=1.0)` and `binomial(n=10, p=0.5)`. Use `np.random` package for this. Plot $5000$ points from each distribution, use seaborn `distplot`."
      ]
    },
    {
      "cell_type": "code",
      "metadata": {
        "id": "8pJBCOdOIhy4"
      },
      "source": [
        "import numpy as np\n",
        "import matplotlib as mpl\n",
        "import matplotlib.pyplot as plt\n",
        "import seaborn as sns\n"
      ],
      "execution_count": null,
      "outputs": []
    },
    {
      "cell_type": "code",
      "metadata": {
        "id": "dXOpE5BmISYI",
        "colab": {
          "base_uri": "https://localhost:8080/",
          "height": 350
        },
        "outputId": "8422848b-fe78-4c51-d002-038f265a428b"
      },
      "source": [
        "exp_mean = np.random.exponential(scale= 1.5, size = 5000)\n",
        "sns.distplot(exp_mean,rug = True, hist= False);"
      ],
      "execution_count": null,
      "outputs": [
        {
          "output_type": "stream",
          "text": [
            "/usr/local/lib/python3.7/dist-packages/seaborn/distributions.py:2557: FutureWarning: `distplot` is a deprecated function and will be removed in a future version. Please adapt your code to use either `displot` (a figure-level function with similar flexibility) or `kdeplot` (an axes-level function for kernel density plots).\n",
            "  warnings.warn(msg, FutureWarning)\n",
            "/usr/local/lib/python3.7/dist-packages/seaborn/distributions.py:2056: FutureWarning: The `axis` variable is no longer used and will be removed. Instead, assign variables directly to `x` or `y`.\n",
            "  warnings.warn(msg, FutureWarning)\n"
          ],
          "name": "stderr"
        },
        {
          "output_type": "display_data",
          "data": {
            "image/png": "[encoded data removed]",
            "text/plain": [
              "<Figure size 432x288 with 1 Axes>"
            ]
          },
          "metadata": {
            "tags": [],
            "needs_background": "light"
          }
        }
      ]
    },
    {
      "cell_type": "markdown",
      "metadata": {
        "id": "zeWV9eodIEtt"
      },
      "source": [
        "You should see something like this:\n",
        "<div><img src=\"https://i.imgur.com/gBSwHxD.png\" /></div>"
      ]
    },
    {
      "cell_type": "code",
      "metadata": {
        "id": "Z1ePksdDiotx",
        "colab": {
          "base_uri": "https://localhost:8080/",
          "height": 366
        },
        "outputId": "5485286d-7163-4cce-8108-f5f156866381"
      },
      "source": [
        "uniform = np.random.uniform(low=0.0, high=1.0, size = 5000)\n",
        "sns.distplot(uniform,rug = True, hist= False)"
      ],
      "execution_count": null,
      "outputs": [
        {
          "output_type": "stream",
          "text": [
            "/usr/local/lib/python3.7/dist-packages/seaborn/distributions.py:2557: FutureWarning: `distplot` is a deprecated function and will be removed in a future version. Please adapt your code to use either `displot` (a figure-level function with similar flexibility) or `kdeplot` (an axes-level function for kernel density plots).\n",
            "  warnings.warn(msg, FutureWarning)\n",
            "/usr/local/lib/python3.7/dist-packages/seaborn/distributions.py:2056: FutureWarning: The `axis` variable is no longer used and will be removed. Instead, assign variables directly to `x` or `y`.\n",
            "  warnings.warn(msg, FutureWarning)\n"
          ],
          "name": "stderr"
        },
        {
          "output_type": "execute_result",
          "data": {
            "text/plain": [
              "<matplotlib.axes._subplots.AxesSubplot at 0x7f8792845cd0>"
            ]
          },
          "metadata": {
            "tags": []
          },
          "execution_count": 9
        },
        {
          "output_type": "display_data",
          "data": {
            "image/png": "[encoded data removed]",
            "text/plain": [
              "<Figure size 432x288 with 1 Axes>"
            ]
          },
          "metadata": {
            "tags": [],
            "needs_background": "light"
          }
        }
      ]
    },
    {
      "cell_type": "markdown",
      "metadata": {
        "id": "yW6DuCvvIEtt"
      },
      "source": [
        "You should see something like this:\n",
        "<div><img src=\"https://i.imgur.com/T4vhjLT.png\" /></div>"
      ]
    },
    {
      "cell_type": "code",
      "metadata": {
        "id": "GPBxyEGkmUFk",
        "colab": {
          "base_uri": "https://localhost:8080/",
          "height": 367
        },
        "outputId": "b4af1238-3eec-4686-9d09-91a56fb01f5f"
      },
      "source": [
        "binom = np.random.binomial(n=10, p=0.5, size = 5000)\n",
        "sns.distplot(binom,rug = True, hist= False)"
      ],
      "execution_count": null,
      "outputs": [
        {
          "output_type": "stream",
          "text": [
            "/usr/local/lib/python3.7/dist-packages/seaborn/distributions.py:2557: FutureWarning: `distplot` is a deprecated function and will be removed in a future version. Please adapt your code to use either `displot` (a figure-level function with similar flexibility) or `kdeplot` (an axes-level function for kernel density plots).\n",
            "  warnings.warn(msg, FutureWarning)\n",
            "/usr/local/lib/python3.7/dist-packages/seaborn/distributions.py:2056: FutureWarning: The `axis` variable is no longer used and will be removed. Instead, assign variables directly to `x` or `y`.\n",
            "  warnings.warn(msg, FutureWarning)\n"
          ],
          "name": "stderr"
        },
        {
          "output_type": "execute_result",
          "data": {
            "text/plain": [
              "<matplotlib.axes._subplots.AxesSubplot at 0x7f878cbf23d0>"
            ]
          },
          "metadata": {
            "tags": []
          },
          "execution_count": 18
        },
        {
          "output_type": "display_data",
          "data": {
            "image/png": "[encoded data removed]",
            "text/plain": [
              "<Figure size 432x288 with 1 Axes>"
            ]
          },
          "metadata": {
            "tags": [],
            "needs_background": "light"
          }
        }
      ]
    },
    {
      "cell_type": "markdown",
      "metadata": {
        "id": "PqhaCFuWIEtt"
      },
      "source": [
        "You should see something like this:\n",
        "<div><img src=\"https://i.imgur.com/QqnrwsT.png\" /></div>"
      ]
    },
    {
      "cell_type": "markdown",
      "metadata": {
        "id": "0625mTMpIEtt"
      },
      "source": [
        "Now, let's run a simulation. Draw samples of $n={1, 5, 10, 100, 1000, 10000, 100000}$ (try each n variation independently) from each of the distributions. Draw $1000$ samples in total for each distribution. For each sample, calculate its mean. Plot calculated sample means for each distribution.\n",
        "\n",
        "You should see that the bigger sample size you use, the more the sampling distribution looks like Normal Distribution. Can you explain why?"
      ]
    },
    {
      "cell_type": "code",
      "metadata": {
        "id": "vf4QMei7B-sB",
        "colab": {
          "base_uri": "https://localhost:8080/",
          "height": 370
        },
        "outputId": "fc5ac69f-e90b-41fa-99bb-8107e5bad97c"
      },
      "source": [
        "#exp_mean_1000 = np.mean(np.random.exponential(scale= 1.5, size = 1000))\n",
        "#sns.distplot(exp_mean_1000)\n",
        "#exp_mean_1000\n",
        "dist_points = 10000\n",
        "exp_means = []\n",
        "for i in range(0, 1000):\n",
        "  exp_mean_1000 = np.mean(np.random.exponential(scale= 1.5, size =dist_points))\n",
        "  exp_means.append(exp_mean_1000)\n",
        "\n",
        "sns.distplot(exp_means,hist= False, rug = True)"
      ],
      "execution_count": null,
      "outputs": [
        {
          "output_type": "stream",
          "text": [
            "/usr/local/lib/python3.7/dist-packages/seaborn/distributions.py:2557: FutureWarning: `distplot` is a deprecated function and will be removed in a future version. Please adapt your code to use either `displot` (a figure-level function with similar flexibility) or `kdeplot` (an axes-level function for kernel density plots).\n",
            "  warnings.warn(msg, FutureWarning)\n",
            "/usr/local/lib/python3.7/dist-packages/seaborn/distributions.py:2056: FutureWarning: The `axis` variable is no longer used and will be removed. Instead, assign variables directly to `x` or `y`.\n",
            "  warnings.warn(msg, FutureWarning)\n"
          ],
          "name": "stderr"
        },
        {
          "output_type": "execute_result",
          "data": {
            "text/plain": [
              "<matplotlib.axes._subplots.AxesSubplot at 0x7fa4bdb6a0d0>"
            ]
          },
          "metadata": {
            "tags": []
          },
          "execution_count": 2
        },
        {
          "output_type": "display_data",
          "data": {
            "image/png": "[encoded data removed]",
            "text/plain": [
              "<Figure size 432x288 with 1 Axes>"
            ]
          },
          "metadata": {
            "tags": [],
            "needs_background": "light"
          }
        }
      ]
    },
    {
      "cell_type": "code",
      "metadata": {
        "id": "JuUN1OoNEtv_",
        "colab": {
          "base_uri": "https://localhost:8080/",
          "height": 370
        },
        "outputId": "5b91427b-5dce-4c77-96eb-8f7aac974943"
      },
      "source": [
        "exp_means = []\n",
        "for i in range(0, 1000):\n",
        "  exp_mean_1000 = np.mean(np.random.exponential(scale= 1.5, size = 1000))\n",
        "  exp_means.append(exp_mean_1000)\n",
        "\n",
        "sns.distplot(exp_means,hist= False, rug = True)"
      ],
      "execution_count": null,
      "outputs": [
        {
          "output_type": "stream",
          "text": [
            "/usr/local/lib/python3.7/dist-packages/seaborn/distributions.py:2557: FutureWarning: `distplot` is a deprecated function and will be removed in a future version. Please adapt your code to use either `displot` (a figure-level function with similar flexibility) or `kdeplot` (an axes-level function for kernel density plots).\n",
            "  warnings.warn(msg, FutureWarning)\n",
            "/usr/local/lib/python3.7/dist-packages/seaborn/distributions.py:2056: FutureWarning: The `axis` variable is no longer used and will be removed. Instead, assign variables directly to `x` or `y`.\n",
            "  warnings.warn(msg, FutureWarning)\n"
          ],
          "name": "stderr"
        },
        {
          "output_type": "execute_result",
          "data": {
            "text/plain": [
              "<matplotlib.axes._subplots.AxesSubplot at 0x7fa4b27bc310>"
            ]
          },
          "metadata": {
            "tags": []
          },
          "execution_count": 3
        },
        {
          "output_type": "display_data",
          "data": {
            "image/png": "[encoded data removed]",
            "text/plain": [
              "<Figure size 432x288 with 1 Axes>"
            ]
          },
          "metadata": {
            "tags": [],
            "needs_background": "light"
          }
        }
      ]
    },
    {
      "cell_type": "code",
      "metadata": {
        "id": "7aB3kfnIJPcX",
        "colab": {
          "base_uri": "https://localhost:8080/",
          "height": 366
        },
        "outputId": "54fe684b-d970-4fe4-8696-6973668b740b"
      },
      "source": [
        "exp_means = []\n",
        "for i in range(0, 1000):\n",
        "  exp_mean_1000 = np.mean(np.random.exponential(scale= 1.5, size =500))\n",
        "  exp_means.append(exp_mean_1000)\n",
        "\n",
        "sns.distplot(exp_means, hist= False, rug = True)"
      ],
      "execution_count": null,
      "outputs": [
        {
          "output_type": "stream",
          "text": [
            "/usr/local/lib/python3.7/dist-packages/seaborn/distributions.py:2557: FutureWarning: `distplot` is a deprecated function and will be removed in a future version. Please adapt your code to use either `displot` (a figure-level function with similar flexibility) or `kdeplot` (an axes-level function for kernel density plots).\n",
            "  warnings.warn(msg, FutureWarning)\n",
            "/usr/local/lib/python3.7/dist-packages/seaborn/distributions.py:2056: FutureWarning: The `axis` variable is no longer used and will be removed. Instead, assign variables directly to `x` or `y`.\n",
            "  warnings.warn(msg, FutureWarning)\n"
          ],
          "name": "stderr"
        },
        {
          "output_type": "execute_result",
          "data": {
            "text/plain": [
              "<matplotlib.axes._subplots.AxesSubplot at 0x7f87893f1310>"
            ]
          },
          "metadata": {
            "tags": []
          },
          "execution_count": 44
        },
        {
          "output_type": "display_data",
          "data": {
            "image/png": "[encoded data removed]",
            "text/plain": [
              "<Figure size 432x288 with 1 Axes>"
            ]
          },
          "metadata": {
            "tags": [],
            "needs_background": "light"
          }
        }
      ]
    },
    {
      "cell_type": "markdown",
      "metadata": {
        "id": "ICp9ypecIEtu"
      },
      "source": [
        "With $1000$ samples drawn from an exponential distribution with $scale=1.5$ and sample size $500$, you should see something similar to this:\n",
        "\n",
        "<div><img src=\"https://i.imgur.com/qf4nAUS.png\" /></div>"
      ]
    },
    {
      "cell_type": "code",
      "metadata": {
        "id": "gUIHD0ezKJiN",
        "colab": {
          "base_uri": "https://localhost:8080/",
          "height": 366
        },
        "outputId": "6fbc6a86-20a3-491f-f316-5159b016c54b"
      },
      "source": [
        "uni_means = []\n",
        "for i in range(0, 1000):\n",
        "  uni_mean = np.mean(np.random.uniform(high=1.0, low=0.0, size =10000))\n",
        "  uni_means.append(uni_mean)\n",
        "\n",
        "sns.distplot(uni_means, rug = True, hist= False);"
      ],
      "execution_count": null,
      "outputs": [
        {
          "output_type": "stream",
          "text": [
            "/usr/local/lib/python3.7/dist-packages/seaborn/distributions.py:2557: FutureWarning: `distplot` is a deprecated function and will be removed in a future version. Please adapt your code to use either `displot` (a figure-level function with similar flexibility) or `kdeplot` (an axes-level function for kernel density plots).\n",
            "  warnings.warn(msg, FutureWarning)\n",
            "/usr/local/lib/python3.7/dist-packages/seaborn/distributions.py:2056: FutureWarning: The `axis` variable is no longer used and will be removed. Instead, assign variables directly to `x` or `y`.\n",
            "  warnings.warn(msg, FutureWarning)\n"
          ],
          "name": "stderr"
        },
        {
          "output_type": "execute_result",
          "data": {
            "text/plain": [
              "<matplotlib.axes._subplots.AxesSubplot at 0x7f87894f3f50>"
            ]
          },
          "metadata": {
            "tags": []
          },
          "execution_count": 45
        },
        {
          "output_type": "display_data",
          "data": {
            "image/png": "[encoded data removed]",
            "text/plain": [
              "<Figure size 432x288 with 1 Axes>"
            ]
          },
          "metadata": {
            "tags": [],
            "needs_background": "light"
          }
        }
      ]
    },
    {
      "cell_type": "markdown",
      "metadata": {
        "id": "OHo4LHizIEtu"
      },
      "source": [
        "With $1000$ samples drawn from an uniform distribution with $high=1.0$ and $low=0.0$, and sample size $10000$, you should see something similar to this:\n",
        "\n",
        "<div><img src=\"https://i.imgur.com/a50NzVz.png\" /></div>"
      ]
    },
    {
      "cell_type": "code",
      "metadata": {
        "id": "sfojr7uhLHrw",
        "colab": {
          "base_uri": "https://localhost:8080/",
          "height": 353
        },
        "outputId": "a7d58f31-9f17-4536-fe12-1959491b1de9"
      },
      "source": [
        "bin_means = []\n",
        "for i in range(0, 1000):\n",
        "  bin_mean = np.mean(np.random.binomial(n=10, p=0.5, size =10000))\n",
        "  bin_means.append(bin_mean)\n",
        "\n",
        "sns.distplot(bin_means, rug = True, hist= False);"
      ],
      "execution_count": null,
      "outputs": [
        {
          "output_type": "stream",
          "text": [
            "/usr/local/lib/python3.7/dist-packages/seaborn/distributions.py:2557: FutureWarning: `distplot` is a deprecated function and will be removed in a future version. Please adapt your code to use either `displot` (a figure-level function with similar flexibility) or `kdeplot` (an axes-level function for kernel density plots).\n",
            "  warnings.warn(msg, FutureWarning)\n",
            "/usr/local/lib/python3.7/dist-packages/seaborn/distributions.py:2056: FutureWarning: The `axis` variable is no longer used and will be removed. Instead, assign variables directly to `x` or `y`.\n",
            "  warnings.warn(msg, FutureWarning)\n"
          ],
          "name": "stderr"
        },
        {
          "output_type": "display_data",
          "data": {
            "image/png": "[encoded data removed]",
            "text/plain": [
              "<Figure size 432x288 with 1 Axes>"
            ]
          },
          "metadata": {
            "tags": [],
            "needs_background": "light"
          }
        }
      ]
    },
    {
      "cell_type": "markdown",
      "metadata": {
        "id": "A6TvZLAoIEtu"
      },
      "source": [
        "With $1000$ samples drawn from an binomial distribution with $n=10$ and $p=0.5$, and sample size $10000$, you should see something similar to this:\n",
        "\n",
        "<div><img src=\"https://i.imgur.com/IlwGyin.png\" /></div>"
      ]
    },
    {
      "cell_type": "markdown",
      "metadata": {
        "id": "R-KYvVB6IEtw"
      },
      "source": [
        "The key takeaway is as follows - thanks to the central limit theorem, it's possible to \"convert\" any distribution, no matter how weirdly shaped it is, to a normal distribution, to be able to much more easily reason about it. We've converted distributions - exponential, uniform, binomial- to sampling distributions. As we shall see later, such sampling distributions will help us find population parameters with confidence and ease. We can even use sample size of 1, given enough samples, the sampling distribution will still be normal.\n",
        "\n",
        "Imagine - even if we have just a tiny bit of data from a bizarre distribution, such as user click-through rate, we can sample from that tiny amount of data we collected repeatedly (with replacement), plot means of samples, and with confidence find population click-through rate. No need to worry if this does not make sense now, we'll explore these concepts in subsequent chapters."
      ]
    },
    {
      "cell_type": "markdown",
      "metadata": {
        "id": "pIbzAakKIEtw"
      },
      "source": [
        "## Exercise"
      ]
    },
    {
      "cell_type": "markdown",
      "metadata": {
        "id": "boZQvT9DIEtx"
      },
      "source": [
        "### Binomial Process"
      ]
    },
    {
      "cell_type": "markdown",
      "metadata": {
        "id": "Wl5_wZb5IEtx"
      },
      "source": [
        "For the end of this chapter, we'll do some Binomial process modeling.\n",
        "\n",
        "We recommend watching the example below on modelling Amazon book reviews with Binomial distribution, to get the intuition for the upcoming challenge."
      ]
    },
    {
      "cell_type": "code",
      "metadata": {
        "id": "D-9dw-VkIEtx",
        "outputId": "b1d6f808-2731-4c55-808a-0a6c46771d79"
      },
      "source": [
        "from IPython.display import YouTubeVideo\n",
        "YouTubeVideo('8idr1WZ1A7Q')"
      ],
      "execution_count": null,
      "outputs": [
        {
          "output_type": "execute_result",
          "data": {
            "image/jpeg": "[encoded data removed]",
            "text/html": [
              "\n",
              "        <iframe\n",
              "            width=\"400\"\n",
              "            height=\"300\"\n",
              "            src=\"https://www.youtube.com/embed/8idr1WZ1A7Q\"\n",
              "            frameborder=\"0\"\n",
              "            allowfullscreen\n",
              "        ></iframe>\n",
              "        "
            ],
            "text/plain": [
              "<IPython.lib.display.YouTubeVideo at 0x7fe99973aeb0>"
            ]
          },
          "metadata": {
            "tags": []
          },
          "execution_count": 69
        }
      ]
    },
    {
      "cell_type": "markdown",
      "metadata": {
        "id": "M-qhW3w4IEty"
      },
      "source": [
        "Imagine you are a data scientist in customer support team of an e-commerce product. Customer support is responsible for handling customer issue tickets. People complain about all kinds of matters - payments, shipping, user interface, etc. \n",
        "\n",
        "Each ticket can be either critical or non-critical. Only one person in the customer support team can handle critical tickets - let's call him Bob. Bob is a new guy, he is a bottleneck of the customer support team - if there are more critical tickets than Bob can handle, critical tickets start to congest and customer support experience becomes worse. Hence, disappointed customers leave the website more often."
      ]
    },
    {
      "cell_type": "markdown",
      "metadata": {
        "id": "mkelRvYAIEty"
      },
      "source": [
        "Your past data shows that $30$ out of $70$ tickets are critical. Given that tickets always arrive at a similar rate, Bob says he can handle <= $105$ critical tickets out of $250$. If more than $105$ critical tickets out of $250$ start arriving, critical ticket handling starts to congest."
      ]
    },
    {
      "cell_type": "markdown",
      "metadata": {
        "id": "NpL5bgMuIEty"
      },
      "source": [
        "Your manager wants to make decision whether having Bob is enough to handle all critical tickets on time, or whether he should hire more Bob-like customer support agents to handle critical tickets. Your task is to help your manager make a data-driven decision.\n",
        "\n",
        "Your intuition says this looks exactly like a Binomial process, which can be modeled with a Binomial distribution. If we model the process this way, we can calculate the probability of Bob not being able handle critical tickets on time. Let's do this:"
      ]
    },
    {
      "cell_type": "markdown",
      "metadata": {
        "id": "QR1C6RNTIEty"
      },
      "source": [
        "1. Plot the distribution of this Binomial process. Find $n$ and $p$ using past data of customer support and Bob's data.\n",
        "\n",
        "2. Calculate the probability that critical tickets will congest. Congestion occurs if there are more critical tickets out of $250$ than Bob can handle. Use Bob's performance data.\n",
        "\n",
        "3. Simulate customer support ticket event stream. Assume that tickets do not congest, every $250$ tickets the tickets queue is fully cleared. Each time there are more critical tickets than Bob's capacity, mark this event. How many times has this occurred after running the simulation? Assuming $250$ is a single iteration, how many iterations out of all Bob succeeded to handle all the critical tickets? Does this ratio match the probability inferred in 2. using the Binomial distribution?\n",
        "\n",
        "4. Assume that after receiving a  critical ticket, the probability of receiving consecutive critical ticket increases by $0.15$%.  Run the simulation again. How well does the simulation result match 2. result now? Why the results are different now?"
      ]
    },
    {
      "cell_type": "markdown",
      "metadata": {
        "id": "SaxFFHHsIEtz"
      },
      "source": [
        "If you run $2000$ iterations of $250$, the result should be between $0.57$ and $0.58$."
      ]
    },
    {
      "cell_type": "markdown",
      "metadata": {
        "id": "UnP5K-2YIEtz"
      },
      "source": [
        "You should see that congestion probability should be similar to $0.61$."
      ]
    },
    {
      "cell_type": "code",
      "metadata": {
        "colab": {
          "base_uri": "https://localhost:8080/"
        },
        "id": "Q2lV3EuQnEam",
        "outputId": "85c6fe33-78c5-4578-859f-9936c9238d5d"
      },
      "source": [
        "p= 30/70\n",
        "p"
      ],
      "execution_count": null,
      "outputs": [
        {
          "output_type": "execute_result",
          "data": {
            "text/plain": [
              "0.42857142857142855"
            ]
          },
          "metadata": {
            "tags": []
          },
          "execution_count": 4
        }
      ]
    },
    {
      "cell_type": "markdown",
      "metadata": {
        "id": "ORT6JSxE9qtX"
      },
      "source": [
        "Plot the distribution of this Binomial process. Find  n  and  p  using past data of customer support and Bob's data."
      ]
    },
    {
      "cell_type": "code",
      "metadata": {
        "colab": {
          "base_uri": "https://localhost:8080/",
          "height": 333
        },
        "id": "F_geRFp2nTvJ",
        "outputId": "f3702389-b488-41a5-b3b3-bc4668af50e5"
      },
      "source": [
        "sns.distplot(np.random.binomial(p= 3/7, n=250, size = 2000))\n"
      ],
      "execution_count": null,
      "outputs": [
        {
          "output_type": "stream",
          "text": [
            "/usr/local/lib/python3.7/dist-packages/seaborn/distributions.py:2557: FutureWarning: `distplot` is a deprecated function and will be removed in a future version. Please adapt your code to use either `displot` (a figure-level function with similar flexibility) or `histplot` (an axes-level function for histograms).\n",
            "  warnings.warn(msg, FutureWarning)\n"
          ],
          "name": "stderr"
        },
        {
          "output_type": "execute_result",
          "data": {
            "text/plain": [
              "<matplotlib.axes._subplots.AxesSubplot at 0x7f7f0792ead0>"
            ]
          },
          "metadata": {
            "tags": []
          },
          "execution_count": 7
        },
        {
          "output_type": "display_data",
          "data": {
            "image/png": "[encoded data removed]",
            "text/plain": [
              "<Figure size 432x288 with 1 Axes>"
            ]
          },
          "metadata": {
            "tags": [],
            "needs_background": "light"
          }
        }
      ]
    },
    {
      "cell_type": "markdown",
      "metadata": {
        "id": "77SZjUCU9kRO"
      },
      "source": [
        "Calculate the probability that critical tickets will congest. Congestion occurs if there are more critical tickets out of  250  than Bob can handle. Use Bob's performance data."
      ]
    },
    {
      "cell_type": "code",
      "metadata": {
        "colab": {
          "base_uri": "https://localhost:8080/"
        },
        "id": "-lIev3OCs_VH",
        "outputId": "7e32fb67-a87d-430f-aacb-2c241269cd98"
      },
      "source": [
        "from scipy.stats import binom\n",
        "\n",
        "binom.cdf(k=250, n=250, p=0.43) - binom.cdf(k=105, n=250, p=0.43)"
      ],
      "execution_count": null,
      "outputs": [
        {
          "output_type": "execute_result",
          "data": {
            "text/plain": [
              "0.5997208277985251"
            ]
          },
          "metadata": {
            "tags": []
          },
          "execution_count": 48
        }
      ]
    },
    {
      "cell_type": "code",
      "metadata": {
        "id": "cL4zKwFAAo9S",
        "colab": {
          "base_uri": "https://localhost:8080/"
        },
        "outputId": "0c4bb078-740c-44bf-9fc9-0b5f70540651"
      },
      "source": [
        "binom.cdf(k=105, n=250, p=0.43)"
      ],
      "execution_count": null,
      "outputs": [
        {
          "output_type": "execute_result",
          "data": {
            "text/plain": [
              "0.0482579278523611"
            ]
          },
          "metadata": {
            "tags": []
          },
          "execution_count": 49
        }
      ]
    },
    {
      "cell_type": "markdown",
      "metadata": {
        "id": "txY7a7X-911l"
      },
      "source": [
        "Simulate customer support ticket event stream. Assume that tickets do not congest, every  250  tickets the tickets queue is fully cleared. Each time there are more critical tickets than Bob's capacity, mark this event. How many times has this occurred after running the simulation? Assuming  250  is a single iteration, how many iterations out of all Bob succeeded to handle all the critical tickets? Does this ratio match the probability inferred in 2. using the Binomial distribution?"
      ]
    },
    {
      "cell_type": "code",
      "metadata": {
        "colab": {
          "base_uri": "https://localhost:8080/"
        },
        "id": "Okrp8dll91QA",
        "outputId": "6a47d2d5-3eb8-4ef8-e90f-b383a61dbb70"
      },
      "source": [
        "p= 3/7\n",
        "rng= np.random.default_rng()\n",
        "\n",
        "events=[]\n",
        "num_streams= 2000\n",
        "for i in range(0,num_streams):\n",
        "  criticals = []\n",
        "  for num in range(250):\n",
        "    critic = rng.random() <= p\n",
        "    criticals.append(critic)\n",
        "  event = sum(criticals)>105\n",
        "  events.append(event)\n",
        "np.mean(events)\n",
        "  "
      ],
      "execution_count": null,
      "outputs": [
        {
          "output_type": "execute_result",
          "data": {
            "text/plain": [
              "0.596"
            ]
          },
          "metadata": {
            "tags": []
          },
          "execution_count": 47
        }
      ]
    },
    {
      "cell_type": "code",
      "metadata": {
        "id": "NRApLnIzlACg",
        "colab": {
          "base_uri": "https://localhost:8080/"
        },
        "outputId": "1ba45dd7-4222-459a-b20f-cc19e186eb40"
      },
      "source": [
        "x = 0\n",
        "for i in range(5):\n",
        "  x += i\n",
        "x "
      ],
      "execution_count": null,
      "outputs": [
        {
          "output_type": "execute_result",
          "data": {
            "text/plain": [
              "10"
            ]
          },
          "metadata": {
            "tags": []
          },
          "execution_count": 116
        }
      ]
    },
    {
      "cell_type": "code",
      "metadata": {
        "id": "Dm-WXjuDcfIh",
        "colab": {
          "base_uri": "https://localhost:8080/"
        },
        "outputId": "69a2290d-7300-4293-c752-8ad959c39b60"
      },
      "source": [
        "sum(criticals)"
      ],
      "execution_count": null,
      "outputs": [
        {
          "output_type": "execute_result",
          "data": {
            "text/plain": [
              "103"
            ]
          },
          "metadata": {
            "tags": []
          },
          "execution_count": 91
        }
      ]
    },
    {
      "cell_type": "code",
      "metadata": {
        "id": "XSc1V_tMgN25",
        "colab": {
          "base_uri": "https://localhost:8080/"
        },
        "outputId": "47e7c4b4-baa5-49f6-d803-7c4c87d3db21"
      },
      "source": [
        "sum(events)/2000 == np.mean(events)"
      ],
      "execution_count": null,
      "outputs": [
        {
          "output_type": "execute_result",
          "data": {
            "text/plain": [
              "True"
            ]
          },
          "metadata": {
            "tags": []
          },
          "execution_count": 97
        }
      ]
    },
    {
      "cell_type": "markdown",
      "metadata": {
        "id": "1AKK7OwZ-lb6"
      },
      "source": [
        "If you run  2000  iterations of  250 , the result should be between  0.57  and  0.58"
      ]
    },
    {
      "cell_type": "markdown",
      "metadata": {
        "id": "qAV9cRXRh3_S"
      },
      "source": [
        "Assume that after receiving a critical ticket, the probability of receiving consecutive critical ticket increases by  0.15 %. Run the simulation again. How well does the simulation result match 2. result now? Why the results are different now?"
      ]
    },
    {
      "cell_type": "code",
      "metadata": {
        "id": "8Gb3e1j6h2Sy",
        "colab": {
          "base_uri": "https://localhost:8080/"
        },
        "outputId": "77d6f7ca-ac69-4257-ead4-24f778fbe2e4"
      },
      "source": [
        "p = 3/7\n",
        "congested = 0\n",
        "for i in range(2000):\n",
        "  criticals = 0\n",
        "\n",
        "  for num in range(250):\n",
        "    critic = np.random.choice([0,1], p=[1-p, p])\n",
        "    criticals += critic\n",
        "\n",
        "  if criticals > 105:\n",
        "      p += 0.0015 \n",
        "      congested += 1\n",
        "  else: \n",
        "    p=3/7\n",
        "\n",
        "congested/2000"
      ],
      "execution_count": null,
      "outputs": [
        {
          "output_type": "execute_result",
          "data": {
            "text/plain": [
              "0.648"
            ]
          },
          "metadata": {
            "tags": []
          },
          "execution_count": 26
        }
      ]
    },
    {
      "cell_type": "markdown",
      "metadata": {
        "id": "7tv2d6kXh8MJ"
      },
      "source": [
        "You should see that congestion probability should be similar to  0.61 ."
      ]
    },
    {
      "cell_type": "markdown",
      "metadata": {
        "id": "5qqP5vz2IEtz"
      },
      "source": [
        "------"
      ]
    },
    {
      "cell_type": "markdown",
      "metadata": {
        "id": "bSSRYwa2IEtz"
      },
      "source": [
        "## Summary"
      ]
    },
    {
      "cell_type": "markdown",
      "metadata": {
        "id": "iV6V3xW1IEt0"
      },
      "source": [
        "We hope this has been enough of a refresh of the fundamentals of statistics and probability theory. Although this subproject might have been dry, we've run through important concepts, concepts that will serve as strong foundations for the following chapters.\n",
        "\n",
        "Next, we'll dedicate 2 subprojects for statistical hypothesis testing, commonly known as statistical significance testing. We'll learn to trust our experimental results and quantify doubt."
      ]
    },
    {
      "cell_type": "code",
      "metadata": {
        "id": "tdOHsSuSIEt0"
      },
      "source": [
        ""
      ],
      "execution_count": null,
      "outputs": []
    }
  ]
}